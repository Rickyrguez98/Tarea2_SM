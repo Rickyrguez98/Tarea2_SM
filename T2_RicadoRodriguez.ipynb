{
 "cells": [
  {
   "cell_type": "markdown",
   "metadata": {},
   "source": [
    "                                                                                          Ricardo Rodriguez "
   ]
  },
  {
   "cell_type": "markdown",
   "metadata": {},
   "source": [
    "# Resumen de lecturas Tarea 2                                      "
   ]
  },
  {
   "cell_type": "markdown",
   "metadata": {},
   "source": [
    "# Why Python Training Is Totally Worth It\n",
    "All the programming languages change so rapidly, and you need a language that cover your needs, so you can invest your time and money learning that language.\n",
    "\n",
    "Python has been a coding mainstay for over 3 decades, so we think that’s going to continue happening.\n",
    "\n",
    "Python is really easy for you to get it, a lot of computers with Linux or windows already includes the python and if your computer doesn’t include a program with this language is really easy to download from the internet.\n",
    "\n",
    "This language let you code since the basic until very advanced programs with just a simple code because of python libraries.\n",
    "\n",
    "Python it has been very popular for web development, is also useful for implementing algorithms that can detect patterns such as face detection, voice detection, a recommendation system that is a really hot area on this moment.\n"
   ]
  },
  {
   "attachments": {},
   "cell_type": "markdown",
   "metadata": {},
   "source": [
    "# 5 REASONS YOU SHOULD LEARN PYTHON NOW\n",
    "\n",
    "Python is easy to use, powerful, and versatile, which makes python a really good option for beginners and experts, programming like and expert and not wasting a lot of time thanks to its facilities like the libraries.\n",
    "\n",
    "The most of the companies that want to progress it use python to code, companies as google, Dropbox, Netflix and Spotify use a mix of languages but python is one they use and helped them to get where they are on this moment.  \n"
   ]
  },
  {
   "cell_type": "markdown",
   "metadata": {},
   "source": [
    "# Bibliografia \n",
    "Pluralsight. (2019a, 22 julio). 5 reasons you should learn Python now. Recuperado 30 enero, 2020, de https://www.pluralsight.com/blog/software-development/why-python  \n",
    "T.E. Wing. (2019a, 3 enero). SPOTLIGHT: Why Python Training Is Totally Worth It. Recuperado 30 enero, 2020, de http://anewdomain.net/spotlight-should-you-invest-in-python-training/"
   ]
  }
 ],
 "metadata": {
  "kernelspec": {
   "display_name": "Python 3",
   "language": "python",
   "name": "python3"
  },
  "language_info": {
   "codemirror_mode": {
    "name": "ipython",
    "version": 3
   },
   "file_extension": ".py",
   "mimetype": "text/x-python",
   "name": "python",
   "nbconvert_exporter": "python",
   "pygments_lexer": "ipython3",
   "version": "3.7.4"
  }
 },
 "nbformat": 4,
 "nbformat_minor": 2
}
